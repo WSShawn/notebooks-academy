{
 "cells": [
  {
   "cell_type": "code",
   "execution_count": null,
   "id": "902d22db",
   "metadata": {
    "tags": [
     "soorgeon-imports"
    ]
   },
   "outputs": [],
   "source": [
    "import seaborn as sns\n",
    "from pathlib import Path\n",
    "import pickle\n",
    "import pandas as pd\n",
    "from exported import tags_len, parse_tags"
   ]
  },
  {
   "cell_type": "code",
   "execution_count": null,
   "id": "410a9ade",
   "metadata": {
    "tags": [
     "parameters"
    ]
   },
   "outputs": [],
   "source": [
    "upstream = ['tags']\n",
    "product = None"
   ]
  },
  {
   "cell_type": "code",
   "execution_count": null,
   "id": "1d5b8236",
   "metadata": {
    "tags": [
     "soorgeon-unpickle"
    ]
   },
   "outputs": [],
   "source": [
    "df_tagged = pd.read_parquet(upstream['tags']['df_tagged'])"
   ]
  },
  {
   "cell_type": "markdown",
   "id": "6c53a882",
   "metadata": {},
   "source": [
    "## Tracks tagged as \"rock\"\n",
    "\n",
    "- 2.5k tracks tagged as rock\n",
    "- Bryan Adams overly represented with 100 songs\n",
    "- Followed by Toto, with 33"
   ]
  },
  {
   "cell_type": "code",
   "execution_count": 18,
   "id": "9e8c6449",
   "metadata": {},
   "outputs": [
    {
     "data": {
      "text/html": [
       "<div>\n",
       "<style scoped>\n",
       "    .dataframe tbody tr th:only-of-type {\n",
       "        vertical-align: middle;\n",
       "    }\n",
       "\n",
       "    .dataframe tbody tr th {\n",
       "        vertical-align: top;\n",
       "    }\n",
       "\n",
       "    .dataframe thead th {\n",
       "        text-align: right;\n",
       "    }\n",
       "</style>\n",
       "<table border=\"1\" class=\"dataframe\">\n",
       "  <thead>\n",
       "    <tr style=\"text-align: right;\">\n",
       "      <th></th>\n",
       "      <th>artist</th>\n",
       "      <th>timestamp</th>\n",
       "      <th>similars</th>\n",
       "      <th>tags</th>\n",
       "      <th>track_id</th>\n",
       "      <th>title</th>\n",
       "      <th>tags_len</th>\n",
       "      <th>tag_0</th>\n",
       "      <th>value_0</th>\n",
       "      <th>tag_1</th>\n",
       "      <th>tag_2</th>\n",
       "      <th>value_1</th>\n",
       "      <th>value_2</th>\n",
       "    </tr>\n",
       "  </thead>\n",
       "  <tbody>\n",
       "    <tr>\n",
       "      <th>36</th>\n",
       "      <td>Allister</td>\n",
       "      <td>2011-08-04 12:12:50.779805</td>\n",
       "      <td>[[TRQRJIA128F930177F, 1], [TRHAXEH128F930177C,...</td>\n",
       "      <td>[[rock, 100], [punk, 100], [pop punk, 100], [P...</td>\n",
       "      <td>TRRRGPA128F9301782</td>\n",
       "      <td>None Of My Friends Are Punks</td>\n",
       "      <td>6</td>\n",
       "      <td>rock</td>\n",
       "      <td>100</td>\n",
       "      <td>punk</td>\n",
       "      <td>pop punk</td>\n",
       "      <td>100</td>\n",
       "      <td>100</td>\n",
       "    </tr>\n",
       "    <tr>\n",
       "      <th>71</th>\n",
       "      <td>Boy Kill Boy</td>\n",
       "      <td>2011-08-15 21:05:57.238300</td>\n",
       "      <td>[[TRAHPVO128F428E87E, 1], [TRCBTBO128F428E87F,...</td>\n",
       "      <td>[[rock, 100], [indie rock, 100], [New British ...</td>\n",
       "      <td>TRRROXI128F428E877</td>\n",
       "      <td>Load + Clear</td>\n",
       "      <td>4</td>\n",
       "      <td>rock</td>\n",
       "      <td>100</td>\n",
       "      <td>indie rock</td>\n",
       "      <td>New British Invasion</td>\n",
       "      <td>100</td>\n",
       "      <td>100</td>\n",
       "    </tr>\n",
       "    <tr>\n",
       "      <th>102</th>\n",
       "      <td>Carlos Chaouen</td>\n",
       "      <td>2011-09-07 09:56:17.264780</td>\n",
       "      <td>[[TRFPEHT128F42A2BB6, 1], [TROOKGO128F42A3DE6,...</td>\n",
       "      <td>[[rock, 100], [Cantautores, 100], [spanish, 50...</td>\n",
       "      <td>TRRRDQN128F42A3DE7</td>\n",
       "      <td>Buenos Aires</td>\n",
       "      <td>4</td>\n",
       "      <td>rock</td>\n",
       "      <td>100</td>\n",
       "      <td>Cantautores</td>\n",
       "      <td>spanish</td>\n",
       "      <td>100</td>\n",
       "      <td>50</td>\n",
       "    </tr>\n",
       "    <tr>\n",
       "      <th>126</th>\n",
       "      <td>Bryan Adams</td>\n",
       "      <td>2011-08-05 11:38:32.502695</td>\n",
       "      <td>[[TRELABG128E0791D47, 1], [TRHMJQQ128E0791D4B,...</td>\n",
       "      <td>[[rock, 100], [pop rock, 40], [soft rock, 26],...</td>\n",
       "      <td>TRRRXIA128E0791D46</td>\n",
       "      <td>Victim Of Love</td>\n",
       "      <td>25</td>\n",
       "      <td>rock</td>\n",
       "      <td>100</td>\n",
       "      <td>pop rock</td>\n",
       "      <td>soft rock</td>\n",
       "      <td>40</td>\n",
       "      <td>26</td>\n",
       "    </tr>\n",
       "    <tr>\n",
       "      <th>288</th>\n",
       "      <td>Base Ball Bear</td>\n",
       "      <td>2011-08-13 04:15:17.829654</td>\n",
       "      <td>[[TRKPZEB128F427BA52, 0.18149], [TRXJFMF128F92...</td>\n",
       "      <td>[[rock, 100], [japanese, 50], [japanese rock, ...</td>\n",
       "      <td>TRRUXQW128F92E4780</td>\n",
       "      <td>Love Mathematics</td>\n",
       "      <td>12</td>\n",
       "      <td>rock</td>\n",
       "      <td>100</td>\n",
       "      <td>japanese</td>\n",
       "      <td>japanese rock</td>\n",
       "      <td>50</td>\n",
       "      <td>50</td>\n",
       "    </tr>\n",
       "  </tbody>\n",
       "</table>\n",
       "</div>"
      ],
      "text/plain": [
       "             artist                   timestamp  \\\n",
       "36         Allister  2011-08-04 12:12:50.779805   \n",
       "71     Boy Kill Boy  2011-08-15 21:05:57.238300   \n",
       "102  Carlos Chaouen  2011-09-07 09:56:17.264780   \n",
       "126     Bryan Adams  2011-08-05 11:38:32.502695   \n",
       "288  Base Ball Bear  2011-08-13 04:15:17.829654   \n",
       "\n",
       "                                              similars  \\\n",
       "36   [[TRQRJIA128F930177F, 1], [TRHAXEH128F930177C,...   \n",
       "71   [[TRAHPVO128F428E87E, 1], [TRCBTBO128F428E87F,...   \n",
       "102  [[TRFPEHT128F42A2BB6, 1], [TROOKGO128F42A3DE6,...   \n",
       "126  [[TRELABG128E0791D47, 1], [TRHMJQQ128E0791D4B,...   \n",
       "288  [[TRKPZEB128F427BA52, 0.18149], [TRXJFMF128F92...   \n",
       "\n",
       "                                                  tags            track_id  \\\n",
       "36   [[rock, 100], [punk, 100], [pop punk, 100], [P...  TRRRGPA128F9301782   \n",
       "71   [[rock, 100], [indie rock, 100], [New British ...  TRRROXI128F428E877   \n",
       "102  [[rock, 100], [Cantautores, 100], [spanish, 50...  TRRRDQN128F42A3DE7   \n",
       "126  [[rock, 100], [pop rock, 40], [soft rock, 26],...  TRRRXIA128E0791D46   \n",
       "288  [[rock, 100], [japanese, 50], [japanese rock, ...  TRRUXQW128F92E4780   \n",
       "\n",
       "                            title  tags_len tag_0 value_0        tag_1  \\\n",
       "36   None Of My Friends Are Punks         6  rock     100         punk   \n",
       "71                   Load + Clear         4  rock     100   indie rock   \n",
       "102                  Buenos Aires         4  rock     100  Cantautores   \n",
       "126                Victim Of Love        25  rock     100     pop rock   \n",
       "288              Love Mathematics        12  rock     100     japanese   \n",
       "\n",
       "                    tag_2 value_1 value_2  \n",
       "36               pop punk     100     100  \n",
       "71   New British Invasion     100     100  \n",
       "102               spanish     100      50  \n",
       "126             soft rock      40      26  \n",
       "288         japanese rock      50      50  "
      ]
     },
     "execution_count": 18,
     "metadata": {},
     "output_type": "execute_result"
    }
   ],
   "source": [
    "rock = df_tagged[df_tagged[\"tag_0\"] == \"rock\"]\n",
    "rock.head()"
   ]
  },
  {
   "cell_type": "code",
   "execution_count": 19,
   "id": "192ada85",
   "metadata": {},
   "outputs": [
    {
     "data": {
      "text/plain": [
       "(2534, 13)"
      ]
     },
     "execution_count": 19,
     "metadata": {},
     "output_type": "execute_result"
    }
   ],
   "source": [
    "rock.shape"
   ]
  },
  {
   "cell_type": "code",
   "execution_count": 20,
   "id": "81fb1c00",
   "metadata": {},
   "outputs": [
    {
     "data": {
      "text/plain": [
       "artist\n",
       "Bryan Adams    104\n",
       "Toto            33\n",
       "Idlewild        33\n",
       "Téléphone       28\n",
       "Daughtry        28\n",
       "dtype: int64"
      ]
     },
     "execution_count": 20,
     "metadata": {},
     "output_type": "execute_result"
    }
   ],
   "source": [
    "artists_rock = rock.groupby('artist').size().sort_values(ascending=False).head(10)\n",
    "artists_rock.head()"
   ]
  },
  {
   "cell_type": "code",
   "execution_count": 21,
   "id": "67979c67",
   "metadata": {},
   "outputs": [
    {
     "data": {
      "text/plain": [
       "<AxesSubplot:ylabel='artist'>"
      ]
     },
     "execution_count": 21,
     "metadata": {},
     "output_type": "execute_result"
    },
    {
     "data": {
      "image/png": "[encoded data removed]",
      "text/plain": [
       "<Figure size 432x288 with 1 Axes>"
      ]
     },
     "metadata": {
      "needs_background": "light"
     },
     "output_type": "display_data"
    }
   ],
   "source": [
    "sns.barplot(x=artists_rock, y=artists_rock.index, orient=\"h\")"
   ]
  }
 ],
 "metadata": {
  "kernelspec": {
   "display_name": "Python 3",
   "language": "python",
   "name": "python3"
  }
 },
 "nbformat": 4,
 "nbformat_minor": 5
}