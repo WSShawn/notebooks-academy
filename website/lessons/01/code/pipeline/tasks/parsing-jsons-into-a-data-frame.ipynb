{
 "cells": [
  {
   "cell_type": "code",
   "execution_count": null,
   "id": "ce00082b",
   "metadata": {
    "tags": [
     "soorgeon-imports"
    ]
   },
   "outputs": [],
   "source": [
    "import json\n",
    "from pathlib import Path\n",
    "from glob import iglob\n",
    "\n",
    "import pandas as pd\n",
    "from pathlib import Path\n",
    "import pickle\n",
    "from exported import tags_len, parse_tags"
   ]
  },
  {
   "cell_type": "code",
   "execution_count": null,
   "id": "273e8da6",
   "metadata": {
    "tags": [
     "parameters"
    ]
   },
   "outputs": [],
   "source": [
    "upstream = ['data-loading']\n",
    "product = None"
   ]
  },
  {
   "cell_type": "code",
   "execution_count": null,
   "id": "0ee2fda5",
   "metadata": {
    "tags": [
     "soorgeon-unpickle"
    ]
   },
   "outputs": [],
   "source": [
    "path_to_dir = pickle.loads(Path(upstream['data-loading']['path_to_dir']).read_bytes())"
   ]
  },
  {
   "cell_type": "markdown",
   "id": "37e6f19e",
   "metadata": {},
   "source": [
    "## Parsing JSONs into a data frame\n",
    "\n",
    "- We parse the JSON files and convert to a data frame\n",
    "- 104k records"
   ]
  },
  {
   "cell_type": "code",
   "execution_count": 3,
   "id": "db3d7f72",
   "metadata": {},
   "outputs": [],
   "source": [
    "# reading all the JSON files will take a ~2 minutes\n",
    "# you can set this value to a number to only load a few files\n",
    "n = None\n",
    "\n",
    "files_all = iglob(f\"{path_to_dir}/**/*.json\", recursive=True)\n",
    "\n",
    "if n is not None:\n",
    "    files = [next(files_all) for _ in range(n)]\n",
    "else:\n",
    "    files = files_all\n",
    "\n",
    "raw = [json.loads(Path(path).read_text()) for path in files]"
   ]
  },
  {
   "cell_type": "code",
   "execution_count": 4,
   "id": "d54ddf46",
   "metadata": {},
   "outputs": [],
   "source": [
    "df = pd.DataFrame.from_records(raw)"
   ]
  },
  {
   "cell_type": "code",
   "execution_count": 5,
   "id": "5c3f8602",
   "metadata": {},
   "outputs": [
    {
     "data": {
      "text/html": [
       "<div>\n",
       "<style scoped>\n",
       "    .dataframe tbody tr th:only-of-type {\n",
       "        vertical-align: middle;\n",
       "    }\n",
       "\n",
       "    .dataframe tbody tr th {\n",
       "        vertical-align: top;\n",
       "    }\n",
       "\n",
       "    .dataframe thead th {\n",
       "        text-align: right;\n",
       "    }\n",
       "</style>\n",
       "<table border=\"1\" class=\"dataframe\">\n",
       "  <thead>\n",
       "    <tr style=\"text-align: right;\">\n",
       "      <th></th>\n",
       "      <th>artist</th>\n",
       "      <th>timestamp</th>\n",
       "      <th>similars</th>\n",
       "      <th>tags</th>\n",
       "      <th>track_id</th>\n",
       "      <th>title</th>\n",
       "    </tr>\n",
       "  </thead>\n",
       "  <tbody>\n",
       "    <tr>\n",
       "      <th>0</th>\n",
       "      <td>Jimmy Somerville</td>\n",
       "      <td>2011-08-11 21:15:43.358721</td>\n",
       "      <td>[]</td>\n",
       "      <td>[]</td>\n",
       "      <td>TRRRRYP128F4284522</td>\n",
       "      <td>Dark Sky (Tony De Vit Mix)</td>\n",
       "    </tr>\n",
       "    <tr>\n",
       "      <th>1</th>\n",
       "      <td>Topazz</td>\n",
       "      <td>2011-08-02 21:16:50.250928</td>\n",
       "      <td>[[TRNJAFY128F92F7E07, 0.0588966], [TRYDEXT128F...</td>\n",
       "      <td>[[house set, 100]]</td>\n",
       "      <td>TRRRRFU12903CBEF39</td>\n",
       "      <td>New Millennium</td>\n",
       "    </tr>\n",
       "    <tr>\n",
       "      <th>2</th>\n",
       "      <td>Arab on Radar</td>\n",
       "      <td>2011-08-04 04:39:24.591196</td>\n",
       "      <td>[[TRJLEPW128F422EC7A, 1], [TRFSJKJ128F422EC7E,...</td>\n",
       "      <td>[[Love, 100], [noise, 100], [going crazy, 100]...</td>\n",
       "      <td>TRRRRQS128F422EC78</td>\n",
       "      <td>His Maintenance</td>\n",
       "    </tr>\n",
       "    <tr>\n",
       "      <th>3</th>\n",
       "      <td>New York Art Quartet</td>\n",
       "      <td>2011-08-15 12:26:46.200654</td>\n",
       "      <td>[[TRERNJG128F4234CBD, 1], [TROQFAY128F422D36F,...</td>\n",
       "      <td>[[freejazz, 100]]</td>\n",
       "      <td>TRRRRUC128F4234CBE</td>\n",
       "      <td>Rosmosis</td>\n",
       "    </tr>\n",
       "    <tr>\n",
       "      <th>4</th>\n",
       "      <td>Georgie Fame</td>\n",
       "      <td>2011-08-11 19:07:32.189500</td>\n",
       "      <td>[[TRCRZGY128F92E31D8, 0.836796], [TRFUOTR128E0...</td>\n",
       "      <td>[[singer-songwriter, 100], [60s, 100]]</td>\n",
       "      <td>TRRRREU128F92E31BA</td>\n",
       "      <td>Vino Tequilla</td>\n",
       "    </tr>\n",
       "  </tbody>\n",
       "</table>\n",
       "</div>"
      ],
      "text/plain": [
       "                 artist                   timestamp  \\\n",
       "0      Jimmy Somerville  2011-08-11 21:15:43.358721   \n",
       "1                Topazz  2011-08-02 21:16:50.250928   \n",
       "2         Arab on Radar  2011-08-04 04:39:24.591196   \n",
       "3  New York Art Quartet  2011-08-15 12:26:46.200654   \n",
       "4          Georgie Fame  2011-08-11 19:07:32.189500   \n",
       "\n",
       "                                            similars  \\\n",
       "0                                                 []   \n",
       "1  [[TRNJAFY128F92F7E07, 0.0588966], [TRYDEXT128F...   \n",
       "2  [[TRJLEPW128F422EC7A, 1], [TRFSJKJ128F422EC7E,...   \n",
       "3  [[TRERNJG128F4234CBD, 1], [TROQFAY128F422D36F,...   \n",
       "4  [[TRCRZGY128F92E31D8, 0.836796], [TRFUOTR128E0...   \n",
       "\n",
       "                                                tags            track_id  \\\n",
       "0                                                 []  TRRRRYP128F4284522   \n",
       "1                                 [[house set, 100]]  TRRRRFU12903CBEF39   \n",
       "2  [[Love, 100], [noise, 100], [going crazy, 100]...  TRRRRQS128F422EC78   \n",
       "3                                  [[freejazz, 100]]  TRRRRUC128F4234CBE   \n",
       "4             [[singer-songwriter, 100], [60s, 100]]  TRRRREU128F92E31BA   \n",
       "\n",
       "                        title  \n",
       "0  Dark Sky (Tony De Vit Mix)  \n",
       "1              New Millennium  \n",
       "2             His Maintenance  \n",
       "3                    Rosmosis  \n",
       "4               Vino Tequilla  "
      ]
     },
     "execution_count": 5,
     "metadata": {},
     "output_type": "execute_result"
    }
   ],
   "source": [
    "df.head()"
   ]
  },
  {
   "cell_type": "code",
   "execution_count": 6,
   "id": "e7cf350b",
   "metadata": {},
   "outputs": [
    {
     "data": {
      "text/plain": [
       "(66046, 6)"
      ]
     },
     "execution_count": 6,
     "metadata": {},
     "output_type": "execute_result"
    }
   ],
   "source": [
    "df.shape"
   ]
  },
  {
   "cell_type": "code",
   "execution_count": null,
   "id": "8d978985",
   "metadata": {
    "tags": [
     "soorgeon-pickle"
    ]
   },
   "outputs": [],
   "source": [
    "Path(product['df']).parent.mkdir(exist_ok=True, parents=True)\n",
    "Path(product['df']).write_bytes(pickle.dumps(df))"
   ]
  }
 ],
 "metadata": {
  "kernelspec": {
   "display_name": "Python 3",
   "language": "python",
   "name": "python3"
  }
 },
 "nbformat": 4,
 "nbformat_minor": 5
}