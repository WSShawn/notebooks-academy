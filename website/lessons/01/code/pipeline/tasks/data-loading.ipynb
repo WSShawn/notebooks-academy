{
 "cells": [
  {
   "cell_type": "code",
   "execution_count": null,
   "id": "3c897dfe",
   "metadata": {
    "tags": [
     "soorgeon-imports"
    ]
   },
   "outputs": [],
   "source": [
    "import zipfile\n",
    "from urllib import request\n",
    "from pathlib import Path\n",
    "from pathlib import Path\n",
    "import pickle\n",
    "import pandas as pd\n",
    "from exported import tags_len, parse_tags"
   ]
  },
  {
   "cell_type": "code",
   "execution_count": null,
   "id": "4519bd20",
   "metadata": {
    "tags": [
     "parameters"
    ]
   },
   "outputs": [],
   "source": [
    "upstream = None\n",
    "product = None"
   ]
  },
  {
   "cell_type": "markdown",
   "id": "8f925d8a",
   "metadata": {},
   "source": [
    "# Exploring music data\n",
    "\n",
    "## Data loading\n",
    "\n",
    "- [Data source](http://millionsongdataset.com/lastfm/)\n",
    "- Data is a zipped file with JSON files"
   ]
  },
  {
   "cell_type": "code",
   "execution_count": 31,
   "id": "38f721ab",
   "metadata": {},
   "outputs": [
    {
     "name": "stdout",
     "output_type": "stream",
     "text": [
      "downloading: /Users/Edu/noteboooks-academy/data/lastfm_test.zip\n",
      "unzipping: /Users/Edu/noteboooks-academy/data/lastfm_test.zip\n"
     ]
    }
   ],
   "source": [
    "home = Path('~/noteboooks-academy/data').expanduser()\n",
    "home.mkdir(exist_ok=True, parents=True)\n",
    "\n",
    "name = \"lastfm_test\"\n",
    "url = f\"http://millionsongdataset.com/sites/default/files/lastfm/{name}.zip\"\n",
    "path_to_zip = Path(home, f\"{name}.zip\")\n",
    "path_to_dir = Path(home, name)\n",
    "\n",
    "if not path_to_zip.exists():\n",
    "    print(f'downloading: {path_to_zip}')\n",
    "    request.urlretrieve(url, filename=path_to_zip)\n",
    "\n",
    "if not path_to_dir.exists():\n",
    "    print(f'unzipping: {path_to_zip}')\n",
    "    with zipfile.ZipFile(path_to_zip, 'r') as zip_ref:\n",
    "        zip_ref.extractall(path=home)"
   ]
  },
  {
   "cell_type": "code",
   "execution_count": null,
   "id": "d2e7d3cc",
   "metadata": {
    "tags": [
     "soorgeon-pickle"
    ]
   },
   "outputs": [],
   "source": [
    "Path(product['name']).parent.mkdir(exist_ok=True, parents=True)\n",
    "Path(product['name']).write_bytes(pickle.dumps(name))"
   ]
  }
 ],
 "metadata": {
  "kernelspec": {
   "display_name": "Python 3",
   "language": "python",
   "name": "python3"
  }
 },
 "nbformat": 4,
 "nbformat_minor": 5
}