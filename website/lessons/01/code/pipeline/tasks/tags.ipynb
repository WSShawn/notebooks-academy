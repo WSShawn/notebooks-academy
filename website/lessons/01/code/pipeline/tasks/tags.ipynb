{
 "cells": [
  {
   "cell_type": "code",
   "execution_count": null,
   "id": "0266ea96",
   "metadata": {
    "tags": [
     "soorgeon-imports"
    ]
   },
   "outputs": [],
   "source": [
    "import pandas as pd\n",
    "import seaborn as sns\n",
    "from pathlib import Path\n",
    "import pickle\n",
    "from exported import tags_len, parse_tags"
   ]
  },
  {
   "cell_type": "code",
   "execution_count": null,
   "id": "ccb441d7",
   "metadata": {
    "tags": [
     "parameters"
    ]
   },
   "outputs": [],
   "source": [
    "upstream = ['parsing-jsons-into-a-data-frame']\n",
    "product = None"
   ]
  },
  {
   "cell_type": "code",
   "execution_count": null,
   "id": "4ca45f99",
   "metadata": {
    "tags": [
     "soorgeon-unpickle"
    ]
   },
   "outputs": [],
   "source": [
    "df = pickle.loads(Path(upstream['parsing-jsons-into-a-data-frame']['df']).read_bytes())"
   ]
  },
  {
   "cell_type": "markdown",
   "id": "e4b5e97e",
   "metadata": {},
   "source": [
    "## Tags\n",
    "\n",
    "- `tags` contain classifiers for each song\n",
    "- It's a list of (key, value) tuples. Example: (rock, 100)\n",
    "- The median is a single tag\n",
    "- There is an outlier with 100 tags"
   ]
  },
  {
   "cell_type": "code",
   "execution_count": 11,
   "id": "a97157ee",
   "metadata": {},
   "outputs": [
    {
     "data": {
      "text/plain": [
       "3301                                                    []\n",
       "48491                                                   []\n",
       "16248                                                   []\n",
       "41913                                                   []\n",
       "53593                                                   []\n",
       "60411                                                   []\n",
       "26653                                                   []\n",
       "14673    [[electro, 100], [Electroclash, 42], [electron...\n",
       "20348                                                   []\n",
       "35835                                                   []\n",
       "Name: tags, dtype: object"
      ]
     },
     "execution_count": 11,
     "metadata": {},
     "output_type": "execute_result"
    }
   ],
   "source": [
    "df.tags.sample(n=10)"
   ]
  },
  {
   "cell_type": "code",
   "execution_count": 12,
   "id": "a732dc0c",
   "metadata": {},
   "outputs": [],
   "source": [
    "def tags_len(tags):\n",
    "    return len(tags)         \n",
    "\n",
    "df['tags_len'] = df.tags.apply(tags_len)"
   ]
  },
  {
   "cell_type": "markdown",
   "id": "85a7d7c3",
   "metadata": {},
   "source": [
    "There's a long tail of tags:"
   ]
  },
  {
   "cell_type": "code",
   "execution_count": 13,
   "id": "120f16c6",
   "metadata": {},
   "outputs": [
    {
     "data": {
      "text/plain": [
       "count    66046.000000\n",
       "mean         8.954395\n",
       "std         19.311366\n",
       "min          0.000000\n",
       "25%          0.000000\n",
       "50%          1.000000\n",
       "75%          8.000000\n",
       "max        100.000000\n",
       "Name: tags_len, dtype: float64"
      ]
     },
     "execution_count": 13,
     "metadata": {},
     "output_type": "execute_result"
    }
   ],
   "source": [
    "df['tags_len'].describe()"
   ]
  },
  {
   "cell_type": "code",
   "execution_count": 14,
   "id": "bd63ccc6",
   "metadata": {},
   "outputs": [
    {
     "data": {
      "text/plain": [
       "<seaborn.axisgrid.FacetGrid at 0x16eebd310>"
      ]
     },
     "execution_count": 14,
     "metadata": {},
     "output_type": "execute_result"
    },
    {
     "data": {
      "image/png": "[encoded data removed]",
      "text/plain": [
       "<Figure size 360x360 with 1 Axes>"
      ]
     },
     "metadata": {
      "needs_background": "light"
     },
     "output_type": "display_data"
    }
   ],
   "source": [
    "sns.displot(df['tags_len'])"
   ]
  },
  {
   "cell_type": "code",
   "execution_count": 15,
   "id": "19872070",
   "metadata": {},
   "outputs": [],
   "source": [
    "def parse_tags(tags):\n",
    "    if not tags:\n",
    "        return {}\n",
    "    \n",
    "    # we'll only process the first three     \n",
    "    to_process = tags[:3]\n",
    "    \n",
    "    # convert: [[key0, value0], [key1, value1], ...]\n",
    "    # into: [key0, key1, ...], [value0, value1, ...], \n",
    "    keys, values = zip(*to_process[:3])\n",
    "    \n",
    "    # convert to: column_name: key\n",
    "    keys_mapping = {f'tag_{i}': k for i, k in enumerate(keys)}\n",
    "    # convert to: column_name: value\n",
    "    values_mapping = {f'value_{i}': k for i, k in enumerate(values)}\n",
    "    \n",
    "    return {**keys_mapping, **values_mapping}"
   ]
  },
  {
   "cell_type": "code",
   "execution_count": 16,
   "id": "76fce22c",
   "metadata": {},
   "outputs": [
    {
     "data": {
      "text/html": [
       "<div>\n",
       "<style scoped>\n",
       "    .dataframe tbody tr th:only-of-type {\n",
       "        vertical-align: middle;\n",
       "    }\n",
       "\n",
       "    .dataframe tbody tr th {\n",
       "        vertical-align: top;\n",
       "    }\n",
       "\n",
       "    .dataframe thead th {\n",
       "        text-align: right;\n",
       "    }\n",
       "</style>\n",
       "<table border=\"1\" class=\"dataframe\">\n",
       "  <thead>\n",
       "    <tr style=\"text-align: right;\">\n",
       "      <th></th>\n",
       "      <th>tag_0</th>\n",
       "      <th>value_0</th>\n",
       "      <th>tag_1</th>\n",
       "      <th>tag_2</th>\n",
       "      <th>value_1</th>\n",
       "      <th>value_2</th>\n",
       "    </tr>\n",
       "  </thead>\n",
       "  <tbody>\n",
       "    <tr>\n",
       "      <th>0</th>\n",
       "      <td>NaN</td>\n",
       "      <td>NaN</td>\n",
       "      <td>NaN</td>\n",
       "      <td>NaN</td>\n",
       "      <td>NaN</td>\n",
       "      <td>NaN</td>\n",
       "    </tr>\n",
       "    <tr>\n",
       "      <th>1</th>\n",
       "      <td>house set</td>\n",
       "      <td>100</td>\n",
       "      <td>NaN</td>\n",
       "      <td>NaN</td>\n",
       "      <td>NaN</td>\n",
       "      <td>NaN</td>\n",
       "    </tr>\n",
       "    <tr>\n",
       "      <th>2</th>\n",
       "      <td>Love</td>\n",
       "      <td>100</td>\n",
       "      <td>noise</td>\n",
       "      <td>going crazy</td>\n",
       "      <td>100</td>\n",
       "      <td>100</td>\n",
       "    </tr>\n",
       "    <tr>\n",
       "      <th>3</th>\n",
       "      <td>freejazz</td>\n",
       "      <td>100</td>\n",
       "      <td>NaN</td>\n",
       "      <td>NaN</td>\n",
       "      <td>NaN</td>\n",
       "      <td>NaN</td>\n",
       "    </tr>\n",
       "    <tr>\n",
       "      <th>4</th>\n",
       "      <td>singer-songwriter</td>\n",
       "      <td>100</td>\n",
       "      <td>60s</td>\n",
       "      <td>NaN</td>\n",
       "      <td>100</td>\n",
       "      <td>NaN</td>\n",
       "    </tr>\n",
       "  </tbody>\n",
       "</table>\n",
       "</div>"
      ],
      "text/plain": [
       "               tag_0 value_0  tag_1        tag_2 value_1 value_2\n",
       "0                NaN     NaN    NaN          NaN     NaN     NaN\n",
       "1          house set     100    NaN          NaN     NaN     NaN\n",
       "2               Love     100  noise  going crazy     100     100\n",
       "3           freejazz     100    NaN          NaN     NaN     NaN\n",
       "4  singer-songwriter     100    60s          NaN     100     NaN"
      ]
     },
     "execution_count": 16,
     "metadata": {},
     "output_type": "execute_result"
    }
   ],
   "source": [
    "df_tags = pd.DataFrame.from_records(df.tags.apply(parse_tags))\n",
    "df_tags.head()"
   ]
  },
  {
   "cell_type": "code",
   "execution_count": 17,
   "id": "483833b8",
   "metadata": {},
   "outputs": [],
   "source": [
    "df_tagged = df.join(df_tags)"
   ]
  },
  {
   "cell_type": "code",
   "execution_count": null,
   "id": "9672d407",
   "metadata": {
    "tags": [
     "soorgeon-pickle"
    ]
   },
   "outputs": [],
   "source": [
    "Path(product['df']).parent.mkdir(exist_ok=True, parents=True)\n",
    "Path(product['df']).write_bytes(pickle.dumps(df))\n",
    "\n",
    "Path(product['df_tagged']).parent.mkdir(exist_ok=True, parents=True)\n",
    "Path(product['df_tagged']).write_bytes(pickle.dumps(df_tagged))"
   ]
  }
 ],
 "metadata": {
  "kernelspec": {
   "display_name": "Python 3",
   "language": "python",
   "name": "python3"
  }
 },
 "nbformat": 4,
 "nbformat_minor": 5
}