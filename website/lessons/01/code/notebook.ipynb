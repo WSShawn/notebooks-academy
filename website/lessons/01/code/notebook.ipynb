{
 "cells": [
  {
   "cell_type": "markdown",
   "metadata": {},
   "source": [
    "# Exploring music data\n",
    "\n",
    "## Data loading\n",
    "\n",
    "- [Data source](http://millionsongdataset.com/lastfm/)\n",
    "- Data is a zipped file with JSON files"
   ]
  },
  {
   "cell_type": "code",
   "execution_count": 1,
   "metadata": {},
   "outputs": [],
   "source": [
    "import zipfile\n",
    "import json\n",
    "from urllib import request\n",
    "from pathlib import Path\n",
    "from glob import iglob\n",
    "\n",
    "import pandas as pd\n",
    "import seaborn as sns"
   ]
  },
  {
   "cell_type": "code",
   "execution_count": 2,
   "metadata": {},
   "outputs": [],
   "source": [
    "home = Path('~/noteboooks-academy/data').expanduser()\n",
    "home.mkdir(exist_ok=True, parents=True)\n",
    "\n",
    "name = \"lastfm_test\"\n",
    "url = f\"http://millionsongdataset.com/sites/default/files/lastfm/{name}.zip\"\n",
    "path_to_zip = Path(home, f\"{name}.zip\")\n",
    "path_to_dir = Path(home, name)\n",
    "\n",
    "if not path_to_zip.exists():\n",
    "    print(f'downloading: {path_to_zip}')\n",
    "    request.urlretrieve(url, filename=path_to_zip)\n",
    "\n",
    "if not path_to_dir.exists():\n",
    "    print(f'unzipping: {path_to_zip}')\n",
    "    with zipfile.ZipFile(path_to_zip, 'r') as zip_ref:\n",
    "        zip_ref.extractall(path=home)"
   ]
  },
  {
   "cell_type": "markdown",
   "metadata": {},
   "source": [
    "## Parsing JSONs into a data frame\n",
    "\n",
    "- We parse the JSON files and convert to a data frame\n",
    "- 104k records"
   ]
  },
  {
   "cell_type": "code",
   "execution_count": 3,
   "metadata": {},
   "outputs": [],
   "source": [
    "# reading all the JSON files will take a ~2 minutes\n",
    "# you can set this value to a number to only load a few files\n",
    "n = None\n",
    "\n",
    "files_all = iglob(f\"{path_to_dir}/**/*.json\", recursive=True)\n",
    "\n",
    "if n is not None:\n",
    "    files = [next(files_all) for _ in range(n)]\n",
    "else:\n",
    "    files = files_all\n",
    "\n",
    "raw = [json.loads(Path(path).read_text()) for path in files]"
   ]
  },
  {
   "cell_type": "code",
   "execution_count": 4,
   "metadata": {},
   "outputs": [],
   "source": [
    "df = pd.DataFrame.from_records(raw)"
   ]
  },
  {
   "cell_type": "code",
   "execution_count": 5,
   "metadata": {},
   "outputs": [
    {
     "data": {
      "text/html": [
       "<div>\n",
       "<style scoped>\n",
       "    .dataframe tbody tr th:only-of-type {\n",
       "        vertical-align: middle;\n",
       "    }\n",
       "\n",
       "    .dataframe tbody tr th {\n",
       "        vertical-align: top;\n",
       "    }\n",
       "\n",
       "    .dataframe thead th {\n",
       "        text-align: right;\n",
       "    }\n",
       "</style>\n",
       "<table border=\"1\" class=\"dataframe\">\n",
       "  <thead>\n",
       "    <tr style=\"text-align: right;\">\n",
       "      <th></th>\n",
       "      <th>artist</th>\n",
       "      <th>timestamp</th>\n",
       "      <th>similars</th>\n",
       "      <th>tags</th>\n",
       "      <th>track_id</th>\n",
       "      <th>title</th>\n",
       "    </tr>\n",
       "  </thead>\n",
       "  <tbody>\n",
       "    <tr>\n",
       "      <th>0</th>\n",
       "      <td>Jimmy Somerville</td>\n",
       "      <td>2011-08-11 21:15:43.358721</td>\n",
       "      <td>[]</td>\n",
       "      <td>[]</td>\n",
       "      <td>TRRRRYP128F4284522</td>\n",
       "      <td>Dark Sky (Tony De Vit Mix)</td>\n",
       "    </tr>\n",
       "    <tr>\n",
       "      <th>1</th>\n",
       "      <td>Topazz</td>\n",
       "      <td>2011-08-02 21:16:50.250928</td>\n",
       "      <td>[[TRNJAFY128F92F7E07, 0.0588966], [TRYDEXT128F...</td>\n",
       "      <td>[[house set, 100]]</td>\n",
       "      <td>TRRRRFU12903CBEF39</td>\n",
       "      <td>New Millennium</td>\n",
       "    </tr>\n",
       "    <tr>\n",
       "      <th>2</th>\n",
       "      <td>Arab on Radar</td>\n",
       "      <td>2011-08-04 04:39:24.591196</td>\n",
       "      <td>[[TRJLEPW128F422EC7A, 1], [TRFSJKJ128F422EC7E,...</td>\n",
       "      <td>[[Love, 100], [noise, 100], [going crazy, 100]...</td>\n",
       "      <td>TRRRRQS128F422EC78</td>\n",
       "      <td>His Maintenance</td>\n",
       "    </tr>\n",
       "    <tr>\n",
       "      <th>3</th>\n",
       "      <td>New York Art Quartet</td>\n",
       "      <td>2011-08-15 12:26:46.200654</td>\n",
       "      <td>[[TRERNJG128F4234CBD, 1], [TROQFAY128F422D36F,...</td>\n",
       "      <td>[[freejazz, 100]]</td>\n",
       "      <td>TRRRRUC128F4234CBE</td>\n",
       "      <td>Rosmosis</td>\n",
       "    </tr>\n",
       "    <tr>\n",
       "      <th>4</th>\n",
       "      <td>Georgie Fame</td>\n",
       "      <td>2011-08-11 19:07:32.189500</td>\n",
       "      <td>[[TRCRZGY128F92E31D8, 0.836796], [TRFUOTR128E0...</td>\n",
       "      <td>[[singer-songwriter, 100], [60s, 100]]</td>\n",
       "      <td>TRRRREU128F92E31BA</td>\n",
       "      <td>Vino Tequilla</td>\n",
       "    </tr>\n",
       "  </tbody>\n",
       "</table>\n",
       "</div>"
      ],
      "text/plain": [
       "                 artist                   timestamp  \\\n",
       "0      Jimmy Somerville  2011-08-11 21:15:43.358721   \n",
       "1                Topazz  2011-08-02 21:16:50.250928   \n",
       "2         Arab on Radar  2011-08-04 04:39:24.591196   \n",
       "3  New York Art Quartet  2011-08-15 12:26:46.200654   \n",
       "4          Georgie Fame  2011-08-11 19:07:32.189500   \n",
       "\n",
       "                                            similars  \\\n",
       "0                                                 []   \n",
       "1  [[TRNJAFY128F92F7E07, 0.0588966], [TRYDEXT128F...   \n",
       "2  [[TRJLEPW128F422EC7A, 1], [TRFSJKJ128F422EC7E,...   \n",
       "3  [[TRERNJG128F4234CBD, 1], [TROQFAY128F422D36F,...   \n",
       "4  [[TRCRZGY128F92E31D8, 0.836796], [TRFUOTR128E0...   \n",
       "\n",
       "                                                tags            track_id  \\\n",
       "0                                                 []  TRRRRYP128F4284522   \n",
       "1                                 [[house set, 100]]  TRRRRFU12903CBEF39   \n",
       "2  [[Love, 100], [noise, 100], [going crazy, 100]...  TRRRRQS128F422EC78   \n",
       "3                                  [[freejazz, 100]]  TRRRRUC128F4234CBE   \n",
       "4             [[singer-songwriter, 100], [60s, 100]]  TRRRREU128F92E31BA   \n",
       "\n",
       "                        title  \n",
       "0  Dark Sky (Tony De Vit Mix)  \n",
       "1              New Millennium  \n",
       "2             His Maintenance  \n",
       "3                    Rosmosis  \n",
       "4               Vino Tequilla  "
      ]
     },
     "execution_count": 5,
     "metadata": {},
     "output_type": "execute_result"
    }
   ],
   "source": [
    "df.head()"
   ]
  },
  {
   "cell_type": "code",
   "execution_count": 6,
   "metadata": {},
   "outputs": [
    {
     "data": {
      "text/plain": [
       "(66046, 6)"
      ]
     },
     "execution_count": 6,
     "metadata": {},
     "output_type": "execute_result"
    }
   ],
   "source": [
    "df.shape"
   ]
  },
  {
   "cell_type": "markdown",
   "metadata": {},
   "source": [
    "## Artists\n",
    "\n",
    "- The `artist` column has no null values\n",
    "- There are 7.4k unique values"
   ]
  },
  {
   "cell_type": "code",
   "execution_count": 7,
   "metadata": {},
   "outputs": [
    {
     "data": {
      "text/plain": [
       "0.0"
      ]
     },
     "execution_count": 7,
     "metadata": {},
     "output_type": "execute_result"
    }
   ],
   "source": [
    "df.artist.isna().sum().mean()"
   ]
  },
  {
   "cell_type": "code",
   "execution_count": 8,
   "metadata": {},
   "outputs": [
    {
     "data": {
      "text/plain": [
       "6335"
      ]
     },
     "execution_count": 8,
     "metadata": {},
     "output_type": "execute_result"
    }
   ],
   "source": [
    "df.artist.nunique()"
   ]
  },
  {
   "cell_type": "code",
   "execution_count": 9,
   "metadata": {},
   "outputs": [],
   "source": [
    "artists = df.groupby('artist').size().sort_values(ascending=False).head(10)"
   ]
  },
  {
   "cell_type": "code",
   "execution_count": 10,
   "metadata": {},
   "outputs": [
    {
     "data": {
      "text/plain": [
       "<AxesSubplot:ylabel='artist'>"
      ]
     },
     "execution_count": 10,
     "metadata": {},
     "output_type": "execute_result"
    },
    {
     "data": {
      "image/png": "[encoded data removed]",
      "text/plain": [
       "<Figure size 432x288 with 1 Axes>"
      ]
     },
     "metadata": {
      "needs_background": "light"
     },
     "output_type": "display_data"
    }
   ],
   "source": [
    "sns.barplot(x=artists, y=artists.index, orient=\"h\")"
   ]
  },
  {
   "cell_type": "markdown",
   "metadata": {},
   "source": [
    "## Tags\n",
    "\n",
    "- `tags` contain classifiers for each song\n",
    "- It's a list of (key, value) tuples. Example: (rock, 100)\n",
    "- The median is a single tag\n",
    "- There is an outlier with 100 tags"
   ]
  },
  {
   "cell_type": "code",
   "execution_count": 11,
   "metadata": {},
   "outputs": [
    {
     "data": {
      "text/plain": [
       "3301                                                    []\n",
       "48491                                                   []\n",
       "16248                                                   []\n",
       "41913                                                   []\n",
       "53593                                                   []\n",
       "60411                                                   []\n",
       "26653                                                   []\n",
       "14673    [[electro, 100], [Electroclash, 42], [electron...\n",
       "20348                                                   []\n",
       "35835                                                   []\n",
       "Name: tags, dtype: object"
      ]
     },
     "execution_count": 11,
     "metadata": {},
     "output_type": "execute_result"
    }
   ],
   "source": [
    "df.tags.sample(n=10)"
   ]
  },
  {
   "cell_type": "code",
   "execution_count": 12,
   "metadata": {},
   "outputs": [],
   "source": [
    "def tags_len(tags):\n",
    "    return len(tags)         \n",
    "\n",
    "df['tags_len'] = df.tags.apply(tags_len)"
   ]
  },
  {
   "cell_type": "markdown",
   "metadata": {},
   "source": [
    "There's a long tail of tags:"
   ]
  },
  {
   "cell_type": "code",
   "execution_count": 13,
   "metadata": {},
   "outputs": [
    {
     "data": {
      "text/plain": [
       "count    66046.000000\n",
       "mean         8.954395\n",
       "std         19.311366\n",
       "min          0.000000\n",
       "25%          0.000000\n",
       "50%          1.000000\n",
       "75%          8.000000\n",
       "max        100.000000\n",
       "Name: tags_len, dtype: float64"
      ]
     },
     "execution_count": 13,
     "metadata": {},
     "output_type": "execute_result"
    }
   ],
   "source": [
    "df['tags_len'].describe()"
   ]
  },
  {
   "cell_type": "code",
   "execution_count": 14,
   "metadata": {},
   "outputs": [
    {
     "data": {
      "text/plain": [
       "<seaborn.axisgrid.FacetGrid at 0x16eebd310>"
      ]
     },
     "execution_count": 14,
     "metadata": {},
     "output_type": "execute_result"
    },
    {
     "data": {
      "image/png": "[encoded data removed]",
      "text/plain": [
       "<Figure size 360x360 with 1 Axes>"
      ]
     },
     "metadata": {
      "needs_background": "light"
     },
     "output_type": "display_data"
    }
   ],
   "source": [
    "sns.displot(df['tags_len'])"
   ]
  },
  {
   "cell_type": "code",
   "execution_count": 15,
   "metadata": {},
   "outputs": [],
   "source": [
    "def parse_tags(tags):\n",
    "    if not tags:\n",
    "        return {}\n",
    "    \n",
    "    # we'll only process the first three     \n",
    "    to_process = tags[:3]\n",
    "    \n",
    "    # convert: [[key0, value0], [key1, value1], ...]\n",
    "    # into: [key0, key1, ...], [value0, value1, ...], \n",
    "    keys, values = zip(*to_process[:3])\n",
    "    \n",
    "    # convert to: column_name: key\n",
    "    keys_mapping = {f'tag_{i}': k for i, k in enumerate(keys)}\n",
    "    # convert to: column_name: value\n",
    "    values_mapping = {f'value_{i}': k for i, k in enumerate(values)}\n",
    "    \n",
    "    return {**keys_mapping, **values_mapping}"
   ]
  },
  {
   "cell_type": "code",
   "execution_count": 16,
   "metadata": {},
   "outputs": [
    {
     "data": {
      "text/html": [
       "<div>\n",
       "<style scoped>\n",
       "    .dataframe tbody tr th:only-of-type {\n",
       "        vertical-align: middle;\n",
       "    }\n",
       "\n",
       "    .dataframe tbody tr th {\n",
       "        vertical-align: top;\n",
       "    }\n",
       "\n",
       "    .dataframe thead th {\n",
       "        text-align: right;\n",
       "    }\n",
       "</style>\n",
       "<table border=\"1\" class=\"dataframe\">\n",
       "  <thead>\n",
       "    <tr style=\"text-align: right;\">\n",
       "      <th></th>\n",
       "      <th>tag_0</th>\n",
       "      <th>value_0</th>\n",
       "      <th>tag_1</th>\n",
       "      <th>tag_2</th>\n",
       "      <th>value_1</th>\n",
       "      <th>value_2</th>\n",
       "    </tr>\n",
       "  </thead>\n",
       "  <tbody>\n",
       "    <tr>\n",
       "      <th>0</th>\n",
       "      <td>NaN</td>\n",
       "      <td>NaN</td>\n",
       "      <td>NaN</td>\n",
       "      <td>NaN</td>\n",
       "      <td>NaN</td>\n",
       "      <td>NaN</td>\n",
       "    </tr>\n",
       "    <tr>\n",
       "      <th>1</th>\n",
       "      <td>house set</td>\n",
       "      <td>100</td>\n",
       "      <td>NaN</td>\n",
       "      <td>NaN</td>\n",
       "      <td>NaN</td>\n",
       "      <td>NaN</td>\n",
       "    </tr>\n",
       "    <tr>\n",
       "      <th>2</th>\n",
       "      <td>Love</td>\n",
       "      <td>100</td>\n",
       "      <td>noise</td>\n",
       "      <td>going crazy</td>\n",
       "      <td>100</td>\n",
       "      <td>100</td>\n",
       "    </tr>\n",
       "    <tr>\n",
       "      <th>3</th>\n",
       "      <td>freejazz</td>\n",
       "      <td>100</td>\n",
       "      <td>NaN</td>\n",
       "      <td>NaN</td>\n",
       "      <td>NaN</td>\n",
       "      <td>NaN</td>\n",
       "    </tr>\n",
       "    <tr>\n",
       "      <th>4</th>\n",
       "      <td>singer-songwriter</td>\n",
       "      <td>100</td>\n",
       "      <td>60s</td>\n",
       "      <td>NaN</td>\n",
       "      <td>100</td>\n",
       "      <td>NaN</td>\n",
       "    </tr>\n",
       "  </tbody>\n",
       "</table>\n",
       "</div>"
      ],
      "text/plain": [
       "               tag_0 value_0  tag_1        tag_2 value_1 value_2\n",
       "0                NaN     NaN    NaN          NaN     NaN     NaN\n",
       "1          house set     100    NaN          NaN     NaN     NaN\n",
       "2               Love     100  noise  going crazy     100     100\n",
       "3           freejazz     100    NaN          NaN     NaN     NaN\n",
       "4  singer-songwriter     100    60s          NaN     100     NaN"
      ]
     },
     "execution_count": 16,
     "metadata": {},
     "output_type": "execute_result"
    }
   ],
   "source": [
    "df_tags = pd.DataFrame.from_records(df.tags.apply(parse_tags))\n",
    "df_tags.head()"
   ]
  },
  {
   "cell_type": "code",
   "execution_count": 17,
   "metadata": {},
   "outputs": [],
   "source": [
    "df_tagged = df.join(df_tags)"
   ]
  },
  {
   "cell_type": "markdown",
   "metadata": {},
   "source": [
    "## Tracks tagged as \"rock\"\n",
    "\n",
    "- 2.5k tracks tagged as rock\n",
    "- Bryan Adams overly represented with 100 songs\n",
    "- Followed by Toto, with 33"
   ]
  },
  {
   "cell_type": "code",
   "execution_count": 18,
   "metadata": {},
   "outputs": [
    {
     "data": {
      "text/html": [
       "<div>\n",
       "<style scoped>\n",
       "    .dataframe tbody tr th:only-of-type {\n",
       "        vertical-align: middle;\n",
       "    }\n",
       "\n",
       "    .dataframe tbody tr th {\n",
       "        vertical-align: top;\n",
       "    }\n",
       "\n",
       "    .dataframe thead th {\n",
       "        text-align: right;\n",
       "    }\n",
       "</style>\n",
       "<table border=\"1\" class=\"dataframe\">\n",
       "  <thead>\n",
       "    <tr style=\"text-align: right;\">\n",
       "      <th></th>\n",
       "      <th>artist</th>\n",
       "      <th>timestamp</th>\n",
       "      <th>similars</th>\n",
       "      <th>tags</th>\n",
       "      <th>track_id</th>\n",
       "      <th>title</th>\n",
       "      <th>tags_len</th>\n",
       "      <th>tag_0</th>\n",
       "      <th>value_0</th>\n",
       "      <th>tag_1</th>\n",
       "      <th>tag_2</th>\n",
       "      <th>value_1</th>\n",
       "      <th>value_2</th>\n",
       "    </tr>\n",
       "  </thead>\n",
       "  <tbody>\n",
       "    <tr>\n",
       "      <th>36</th>\n",
       "      <td>Allister</td>\n",
       "      <td>2011-08-04 12:12:50.779805</td>\n",
       "      <td>[[TRQRJIA128F930177F, 1], [TRHAXEH128F930177C,...</td>\n",
       "      <td>[[rock, 100], [punk, 100], [pop punk, 100], [P...</td>\n",
       "      <td>TRRRGPA128F9301782</td>\n",
       "      <td>None Of My Friends Are Punks</td>\n",
       "      <td>6</td>\n",
       "      <td>rock</td>\n",
       "      <td>100</td>\n",
       "      <td>punk</td>\n",
       "      <td>pop punk</td>\n",
       "      <td>100</td>\n",
       "      <td>100</td>\n",
       "    </tr>\n",
       "    <tr>\n",
       "      <th>71</th>\n",
       "      <td>Boy Kill Boy</td>\n",
       "      <td>2011-08-15 21:05:57.238300</td>\n",
       "      <td>[[TRAHPVO128F428E87E, 1], [TRCBTBO128F428E87F,...</td>\n",
       "      <td>[[rock, 100], [indie rock, 100], [New British ...</td>\n",
       "      <td>TRRROXI128F428E877</td>\n",
       "      <td>Load + Clear</td>\n",
       "      <td>4</td>\n",
       "      <td>rock</td>\n",
       "      <td>100</td>\n",
       "      <td>indie rock</td>\n",
       "      <td>New British Invasion</td>\n",
       "      <td>100</td>\n",
       "      <td>100</td>\n",
       "    </tr>\n",
       "    <tr>\n",
       "      <th>102</th>\n",
       "      <td>Carlos Chaouen</td>\n",
       "      <td>2011-09-07 09:56:17.264780</td>\n",
       "      <td>[[TRFPEHT128F42A2BB6, 1], [TROOKGO128F42A3DE6,...</td>\n",
       "      <td>[[rock, 100], [Cantautores, 100], [spanish, 50...</td>\n",
       "      <td>TRRRDQN128F42A3DE7</td>\n",
       "      <td>Buenos Aires</td>\n",
       "      <td>4</td>\n",
       "      <td>rock</td>\n",
       "      <td>100</td>\n",
       "      <td>Cantautores</td>\n",
       "      <td>spanish</td>\n",
       "      <td>100</td>\n",
       "      <td>50</td>\n",
       "    </tr>\n",
       "    <tr>\n",
       "      <th>126</th>\n",
       "      <td>Bryan Adams</td>\n",
       "      <td>2011-08-05 11:38:32.502695</td>\n",
       "      <td>[[TRELABG128E0791D47, 1], [TRHMJQQ128E0791D4B,...</td>\n",
       "      <td>[[rock, 100], [pop rock, 40], [soft rock, 26],...</td>\n",
       "      <td>TRRRXIA128E0791D46</td>\n",
       "      <td>Victim Of Love</td>\n",
       "      <td>25</td>\n",
       "      <td>rock</td>\n",
       "      <td>100</td>\n",
       "      <td>pop rock</td>\n",
       "      <td>soft rock</td>\n",
       "      <td>40</td>\n",
       "      <td>26</td>\n",
       "    </tr>\n",
       "    <tr>\n",
       "      <th>288</th>\n",
       "      <td>Base Ball Bear</td>\n",
       "      <td>2011-08-13 04:15:17.829654</td>\n",
       "      <td>[[TRKPZEB128F427BA52, 0.18149], [TRXJFMF128F92...</td>\n",
       "      <td>[[rock, 100], [japanese, 50], [japanese rock, ...</td>\n",
       "      <td>TRRUXQW128F92E4780</td>\n",
       "      <td>Love Mathematics</td>\n",
       "      <td>12</td>\n",
       "      <td>rock</td>\n",
       "      <td>100</td>\n",
       "      <td>japanese</td>\n",
       "      <td>japanese rock</td>\n",
       "      <td>50</td>\n",
       "      <td>50</td>\n",
       "    </tr>\n",
       "  </tbody>\n",
       "</table>\n",
       "</div>"
      ],
      "text/plain": [
       "             artist                   timestamp  \\\n",
       "36         Allister  2011-08-04 12:12:50.779805   \n",
       "71     Boy Kill Boy  2011-08-15 21:05:57.238300   \n",
       "102  Carlos Chaouen  2011-09-07 09:56:17.264780   \n",
       "126     Bryan Adams  2011-08-05 11:38:32.502695   \n",
       "288  Base Ball Bear  2011-08-13 04:15:17.829654   \n",
       "\n",
       "                                              similars  \\\n",
       "36   [[TRQRJIA128F930177F, 1], [TRHAXEH128F930177C,...   \n",
       "71   [[TRAHPVO128F428E87E, 1], [TRCBTBO128F428E87F,...   \n",
       "102  [[TRFPEHT128F42A2BB6, 1], [TROOKGO128F42A3DE6,...   \n",
       "126  [[TRELABG128E0791D47, 1], [TRHMJQQ128E0791D4B,...   \n",
       "288  [[TRKPZEB128F427BA52, 0.18149], [TRXJFMF128F92...   \n",
       "\n",
       "                                                  tags            track_id  \\\n",
       "36   [[rock, 100], [punk, 100], [pop punk, 100], [P...  TRRRGPA128F9301782   \n",
       "71   [[rock, 100], [indie rock, 100], [New British ...  TRRROXI128F428E877   \n",
       "102  [[rock, 100], [Cantautores, 100], [spanish, 50...  TRRRDQN128F42A3DE7   \n",
       "126  [[rock, 100], [pop rock, 40], [soft rock, 26],...  TRRRXIA128E0791D46   \n",
       "288  [[rock, 100], [japanese, 50], [japanese rock, ...  TRRUXQW128F92E4780   \n",
       "\n",
       "                            title  tags_len tag_0 value_0        tag_1  \\\n",
       "36   None Of My Friends Are Punks         6  rock     100         punk   \n",
       "71                   Load + Clear         4  rock     100   indie rock   \n",
       "102                  Buenos Aires         4  rock     100  Cantautores   \n",
       "126                Victim Of Love        25  rock     100     pop rock   \n",
       "288              Love Mathematics        12  rock     100     japanese   \n",
       "\n",
       "                    tag_2 value_1 value_2  \n",
       "36               pop punk     100     100  \n",
       "71   New British Invasion     100     100  \n",
       "102               spanish     100      50  \n",
       "126             soft rock      40      26  \n",
       "288         japanese rock      50      50  "
      ]
     },
     "execution_count": 18,
     "metadata": {},
     "output_type": "execute_result"
    }
   ],
   "source": [
    "rock = df_tagged[df_tagged[\"tag_0\"] == \"rock\"]\n",
    "rock.head()"
   ]
  },
  {
   "cell_type": "code",
   "execution_count": 19,
   "metadata": {},
   "outputs": [
    {
     "data": {
      "text/plain": [
       "(1605, 13)"
      ]
     },
     "execution_count": 19,
     "metadata": {},
     "output_type": "execute_result"
    }
   ],
   "source": [
    "rock.shape"
   ]
  },
  {
   "cell_type": "code",
   "execution_count": 20,
   "metadata": {},
   "outputs": [
    {
     "data": {
      "text/plain": [
       "artist\n",
       "Bryan Adams          69\n",
       "Toto                 23\n",
       "Tom Robinson Band    19\n",
       "American Hi-Fi       19\n",
       "Queen                18\n",
       "dtype: int64"
      ]
     },
     "execution_count": 20,
     "metadata": {},
     "output_type": "execute_result"
    }
   ],
   "source": [
    "artists_rock = rock.groupby('artist').size().sort_values(ascending=False).head(10)\n",
    "artists_rock.head()"
   ]
  },
  {
   "cell_type": "code",
   "execution_count": 21,
   "metadata": {},
   "outputs": [
    {
     "data": {
      "text/plain": [
       "<AxesSubplot:ylabel='artist'>"
      ]
     },
     "execution_count": 21,
     "metadata": {},
     "output_type": "execute_result"
    },
    {
     "data": {
      "image/png": "[encoded data removed]",
      "text/plain": [
       "<Figure size 432x288 with 1 Axes>"
      ]
     },
     "metadata": {
      "needs_background": "light"
     },
     "output_type": "display_data"
    }
   ],
   "source": [
    "sns.barplot(x=artists_rock, y=artists_rock.index, orient=\"h\")"
   ]
  }
 ],
 "metadata": {
  "kernelspec": {
   "display_name": "Python 3 (ipykernel)",
   "language": "python",
   "name": "python3"
  },
  "language_info": {
   "codemirror_mode": {
    "name": "ipython",
    "version": 3
   },
   "file_extension": ".py",
   "mimetype": "text/x-python",
   "name": "python",
   "nbconvert_exporter": "python",
   "pygments_lexer": "ipython3",
   "version": "3.9.13"
  },
  "vscode": {
   "interpreter": {
    "hash": "aee8b7b246df8f9039afb4144a1f6fd8d2ca17a180786b69acc140d282b71a49"
   }
  }
 },
 "nbformat": 4,
 "nbformat_minor": 4
}
